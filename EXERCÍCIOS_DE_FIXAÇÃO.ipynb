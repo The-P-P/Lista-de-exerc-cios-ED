{
  "nbformat": 4,
  "nbformat_minor": 0,
  "metadata": {
    "colab": {
      "provenance": []
    },
    "kernelspec": {
      "name": "python3",
      "display_name": "Python 3"
    },
    "language_info": {
      "name": "python"
    }
  },
  "cells": [
    {
      "cell_type": "markdown",
      "source": [
        "# EXERCÍCIOS DE FIXAÇÃO"
      ],
      "metadata": {
        "id": "KzKnu3Q6MhOj"
      }
    },
    {
      "cell_type": "markdown",
      "source": [
        "## Vetores:"
      ],
      "metadata": {
        "id": "gzoe1pwmMnuI"
      }
    },
    {
      "cell_type": "markdown",
      "source": [
        "* Encontre o maior e o menor valor em um vetor de 10 números inteiros aleatórios:"
      ],
      "metadata": {
        "id": "Y66Mlj9SE-Gl"
      }
    },
    {
      "cell_type": "code",
      "execution_count": null,
      "metadata": {
        "id": "ZfKemp6y8p6q",
        "colab": {
          "base_uri": "https://localhost:8080/"
        },
        "outputId": "a7054002-5e72-4137-ea79-04072e7a9854"
      },
      "outputs": [
        {
          "output_type": "stream",
          "name": "stdout",
          "text": [
            "Vetor: [68, 15, 46, 23, 28, 48, 35, 30, 73, 73]\n",
            "Maior valor: 73\n",
            "Menor valor: 15\n"
          ]
        }
      ],
      "source": [
        "import random\n",
        "\n",
        "vetor = [random.randint(1, 100) for i in range(10)]\n",
        "print(f\"Vetor: {vetor}\")\n",
        "\n",
        "maior = max(vetor)\n",
        "menor = min(vetor)\n",
        "\n",
        "print(f\"Maior valor: {maior}\")\n",
        "print(f\"Menor valor: {menor}\")\n"
      ]
    },
    {
      "cell_type": "markdown",
      "source": [
        "* Calcule a soma dos elementos correspondentes em cada vetor:"
      ],
      "metadata": {
        "id": "GeoMBXpWE9IS"
      }
    },
    {
      "cell_type": "code",
      "source": [
        "vetor1 = [1, 2, 3, 4, 5]\n",
        "vetor2 = [5, 4, 3, 2, 1]\n",
        "\n",
        "soma = [vetor1[i] + vetor2[i] for i in range(len(vetor1))]\n",
        "\n",
        "print(f\"Vetor 1: {vetor1}\")\n",
        "print(f\"Vetor 2: {vetor2}\")\n",
        "print(f\"Soma: {soma}\")\n"
      ],
      "metadata": {
        "colab": {
          "base_uri": "https://localhost:8080/"
        },
        "id": "bE_u_NbpFUm6",
        "outputId": "7efaa2d9-ce99-4e59-cf97-9a51eb004b06"
      },
      "execution_count": null,
      "outputs": [
        {
          "output_type": "stream",
          "name": "stdout",
          "text": [
            "Vetor 1: [1, 2, 3, 4, 5]\n",
            "Vetor 2: [5, 4, 3, 2, 1]\n",
            "Soma: [6, 6, 6, 6, 6]\n"
          ]
        }
      ]
    },
    {
      "cell_type": "markdown",
      "source": [
        "* Exiba os k primeiros elementos de um vetor:"
      ],
      "metadata": {
        "id": "302lMjn2FX_m"
      }
    },
    {
      "cell_type": "code",
      "source": [
        "vetor = [1, 2, 3, 4, 5, 6, 7, 8, 9, 10]\n",
        "k = 5\n",
        "\n",
        "primeiros_k = vetor[:k]\n",
        "\n",
        "print(f\"Vetor: {vetor}\")\n",
        "print(f\"Primeiros {k} elementos: {primeiros_k}\")\n"
      ],
      "metadata": {
        "colab": {
          "base_uri": "https://localhost:8080/"
        },
        "id": "XgpkDIW0FcOa",
        "outputId": "9aa7fe59-b2ef-40e8-ac9e-5d91ae453892"
      },
      "execution_count": null,
      "outputs": [
        {
          "output_type": "stream",
          "name": "stdout",
          "text": [
            "Vetor: [1, 2, 3, 4, 5, 6, 7, 8, 9, 10]\n",
            "Primeiros 5 elementos: [1, 2, 3, 4, 5]\n"
          ]
        }
      ]
    },
    {
      "cell_type": "markdown",
      "source": [
        "* Verifique se um vetor está em ordem crescente:"
      ],
      "metadata": {
        "id": "Dw_LKD-SFe-W"
      }
    },
    {
      "cell_type": "code",
      "source": [
        "vetor = [1, 3, 5, 7, 9]\n",
        "\n",
        "esta_ordenado = all(vetor[i] <= vetor[i+1] for i in range(len(vetor)-1))\n",
        "\n",
        "if esta_ordenado:\n",
        "    print(\"O vetor está em ordem crescente.\")\n",
        "else:\n",
        "    print(\"O vetor não está em ordem crescente.\")\n"
      ],
      "metadata": {
        "colab": {
          "base_uri": "https://localhost:8080/"
        },
        "id": "t0gKGkcnFeD0",
        "outputId": "c2dbbf63-821c-498b-8ca4-18ab2a9f7c74"
      },
      "execution_count": null,
      "outputs": [
        {
          "output_type": "stream",
          "name": "stdout",
          "text": [
            "O vetor está em ordem crescente.\n"
          ]
        }
      ]
    },
    {
      "cell_type": "markdown",
      "source": [
        "* Verifique se um vetor contém um elemento específico:"
      ],
      "metadata": {
        "id": "0Of6DkRWFn43"
      }
    },
    {
      "cell_type": "code",
      "source": [
        "vetor = [1, 2, 3, 4, 5]\n",
        "elemento = 3\n",
        "\n",
        "if elemento in vetor:\n",
        "    print(f\"O elemento {elemento} está no vetor.\")\n",
        "else:\n",
        "    print(f\"O elemento {elemento} não está no vetor.\")\n"
      ],
      "metadata": {
        "colab": {
          "base_uri": "https://localhost:8080/"
        },
        "id": "8IKXKaLWFuN8",
        "outputId": "7d675ecf-025e-402d-bea4-6eb38f0de474"
      },
      "execution_count": null,
      "outputs": [
        {
          "output_type": "stream",
          "name": "stdout",
          "text": [
            "O elemento 3 está no vetor.\n"
          ]
        }
      ]
    },
    {
      "cell_type": "markdown",
      "source": [
        "## Matrizes:"
      ],
      "metadata": {
        "id": "chxL5w_4MyLD"
      }
    },
    {
      "cell_type": "markdown",
      "source": [
        "* Exiba os valores da diagonal principal de uma matriz 3x3:"
      ],
      "metadata": {
        "id": "cCXqhMHRGFLb"
      }
    },
    {
      "cell_type": "code",
      "source": [
        "matriz = [[1, 2, 3], [4, 5, 6], [7, 8, 9]]\n",
        "\n",
        "diagonal_principal = [matriz[i][i] for i in range(len(matriz))]\n",
        "\n",
        "print(f\"Matriz:\")\n",
        "for linha in matriz:\n",
        "    print(linha)\n",
        "\n",
        "print(f\"Diagonal principal: {diagonal_principal}\")"
      ],
      "metadata": {
        "colab": {
          "base_uri": "https://localhost:8080/"
        },
        "id": "1kGBIu1yFvbm",
        "outputId": "0103cc1a-d369-439f-bd6b-e7a55a934cfe"
      },
      "execution_count": null,
      "outputs": [
        {
          "output_type": "stream",
          "name": "stdout",
          "text": [
            "Matriz:\n",
            "[1, 2, 3]\n",
            "[4, 5, 6]\n",
            "[7, 8, 9]\n",
            "Diagonal principal: [1, 5, 9]\n"
          ]
        }
      ]
    },
    {
      "cell_type": "markdown",
      "source": [
        "* Calcule a soma de duas matrizes:\n"
      ],
      "metadata": {
        "id": "VNGnNYgBGa-b"
      }
    },
    {
      "cell_type": "code",
      "source": [
        "matriz1 = [[1, 2, 3], [4, 5, 6], [7, 8, 9]]\n",
        "matriz2 = [[9, 8, 7], [6, 5, 4], [3, 2, 1]]\n",
        "\n",
        "soma = [[matriz1[i][j] + matriz2[i][j] for j in range(len(matriz1[0]))] for i in range(len(matriz1))]\n",
        "\n",
        "print(f\"Matriz 1:\")\n",
        "for linha in matriz1:\n",
        "    print(linha)\n",
        "\n",
        "print(f\"Matriz 2:\")\n",
        "for linha in matriz2:\n",
        "    print(linha)\n",
        "\n",
        "print(f\"Soma das matrizes:\")\n",
        "for linha in soma:\n",
        "    print(linha)\n"
      ],
      "metadata": {
        "colab": {
          "base_uri": "https://localhost:8080/"
        },
        "id": "jrV69Ck0GNFE",
        "outputId": "200527a8-8c33-4d52-ba9f-fe0aacf529ee"
      },
      "execution_count": null,
      "outputs": [
        {
          "output_type": "stream",
          "name": "stdout",
          "text": [
            "Matriz 1:\n",
            "[1, 2, 3]\n",
            "[4, 5, 6]\n",
            "[7, 8, 9]\n",
            "Matriz 2:\n",
            "[9, 8, 7]\n",
            "[6, 5, 4]\n",
            "[3, 2, 1]\n",
            "Soma das matrizes:\n",
            "[10, 10, 10]\n",
            "[10, 10, 10]\n",
            "[10, 10, 10]\n"
          ]
        }
      ]
    },
    {
      "cell_type": "markdown",
      "source": [
        "* Calcule a transposta de uma matriz:"
      ],
      "metadata": {
        "id": "Htn5n3uzGioY"
      }
    },
    {
      "cell_type": "code",
      "source": [
        "matriz = [[1, 2, 3], [4, 5, 6], [7, 8, 9]]\n",
        "\n",
        "transposta = [[matriz[j][i] for j in range(len(matriz))] for i in range(len(matriz[0]))]\n",
        "\n",
        "print(f\"Matriz:\")\n",
        "for linha in matriz:\n",
        "    print(linha)\n",
        "\n",
        "print(f\"Transposta:\")\n",
        "for linha in transposta:\n",
        "    print(linha)"
      ],
      "metadata": {
        "colab": {
          "base_uri": "https://localhost:8080/"
        },
        "id": "kCJolBkAGgiA",
        "outputId": "7c6f4382-938c-469f-c450-5afe5c395baa"
      },
      "execution_count": null,
      "outputs": [
        {
          "output_type": "stream",
          "name": "stdout",
          "text": [
            "Matriz:\n",
            "[1, 2, 3]\n",
            "[4, 5, 6]\n",
            "[7, 8, 9]\n",
            "Transposta:\n",
            "[1, 4, 7]\n",
            "[2, 5, 8]\n",
            "[3, 6, 9]\n"
          ]
        }
      ]
    },
    {
      "cell_type": "markdown",
      "source": [
        "* Verifique se uma matriz é uma matriz identidade:"
      ],
      "metadata": {
        "id": "4s6nWizcGttg"
      }
    },
    {
      "cell_type": "code",
      "source": [
        "matriz = [[1, 0, 0], [0, 1, 0], [0, 0, 1]]\n",
        "\n",
        "e_identidade = all(matriz[i][j] == 1 if i == j else matriz[i][j] == 0 for i in range(len(matriz)) for j in range(len(matriz[0])))\n",
        "\n",
        "if e_identidade:\n",
        "    print(\"A matriz é uma matriz identidade.\")\n",
        "else:\n",
        "    print(\"A matriz não é uma matriz identidade.\")\n"
      ],
      "metadata": {
        "colab": {
          "base_uri": "https://localhost:8080/"
        },
        "id": "YtYMGdAmGrgS",
        "outputId": "d4a5dcf1-a7c4-4b35-aa60-5cc3d6a0bcdf"
      },
      "execution_count": null,
      "outputs": [
        {
          "output_type": "stream",
          "name": "stdout",
          "text": [
            "A matriz é uma matriz identidade.\n"
          ]
        }
      ]
    },
    {
      "cell_type": "markdown",
      "source": [
        "* Encontre o maior valor em cada linha de uma matriz:\n",
        "\n"
      ],
      "metadata": {
        "id": "8eOzB0JcG0Rs"
      }
    },
    {
      "cell_type": "code",
      "source": [
        "matriz = [[1, 2, 3], [9, 8, 7], [4, 5, 6]]\n",
        "\n",
        "maiores = [max(linha) for linha in matriz]\n",
        "\n",
        "print(f\"Matriz:\")\n",
        "for linha in matriz:\n",
        "    print(linha)\n",
        "\n",
        "print(f\"Maior valor em cada linha: {maiores}\")"
      ],
      "metadata": {
        "colab": {
          "base_uri": "https://localhost:8080/"
        },
        "id": "4ICOwcyzGxoq",
        "outputId": "152d02d5-a351-4760-8d34-e712f233f7d0"
      },
      "execution_count": null,
      "outputs": [
        {
          "output_type": "stream",
          "name": "stdout",
          "text": [
            "Matriz:\n",
            "[1, 2, 3]\n",
            "[9, 8, 7]\n",
            "[4, 5, 6]\n",
            "Maior valor em cada linha: [3, 9, 6]\n"
          ]
        }
      ]
    },
    {
      "cell_type": "markdown",
      "source": [
        "## Tuplas:"
      ],
      "metadata": {
        "id": "gYCxfx3KM448"
      }
    },
    {
      "cell_type": "markdown",
      "source": [
        "* Exiba os números pares de uma tupla com os números de 1 a 10:"
      ],
      "metadata": {
        "id": "0gVcHA7pHcKP"
      }
    },
    {
      "cell_type": "code",
      "source": [
        "tupla = tuple(range(1, 11))\n",
        "\n",
        "pares = [num for num in tupla if num % 2 == 0]\n",
        "\n",
        "print(f\"Tupla: {tupla}\")\n",
        "print(f\"Números pares: {pares}\")\n"
      ],
      "metadata": {
        "colab": {
          "base_uri": "https://localhost:8080/"
        },
        "id": "sSj4EakXG6yX",
        "outputId": "fca7d041-b8b3-4fbb-bbdc-87cd4d0ad0ab"
      },
      "execution_count": null,
      "outputs": [
        {
          "output_type": "stream",
          "name": "stdout",
          "text": [
            "Tupla: (1, 2, 3, 4, 5, 6, 7, 8, 9, 10)\n",
            "Números pares: [2, 4, 6, 8, 10]\n"
          ]
        }
      ]
    },
    {
      "cell_type": "markdown",
      "source": [
        "* Crie uma terceira tupla com os elementos das duas primeiras tuplas intercalados"
      ],
      "metadata": {
        "id": "GElqie9HHsIq"
      }
    },
    {
      "cell_type": "code",
      "source": [
        "tupla1 = (1, 2, 3)\n",
        "tupla2 = (4, 5, 6)\n",
        "\n",
        "intercalada = tuple([valor for tupla in zip(tupla1, tupla2) for valor in tupla])\n",
        "\n",
        "print(f\"Tupla 1: {tupla1}\")\n",
        "print(f\"Tupla 2: {tupla2}\")\n",
        "print(f\"Tupla intercalada: {intercalada}\")"
      ],
      "metadata": {
        "colab": {
          "base_uri": "https://localhost:8080/"
        },
        "id": "VBieMSrpHmG5",
        "outputId": "2a62a1a7-0de5-4332-b825-7881f25e8e6f"
      },
      "execution_count": null,
      "outputs": [
        {
          "output_type": "stream",
          "name": "stdout",
          "text": [
            "Tupla 1: (1, 2, 3)\n",
            "Tupla 2: (4, 5, 6)\n",
            "Tupla intercalada: (1, 4, 2, 5, 3, 6)\n"
          ]
        }
      ]
    },
    {
      "cell_type": "markdown",
      "source": [
        "* Exiba o valor máximo e mínimo de uma tupla:"
      ],
      "metadata": {
        "id": "BcBNi1BnH1Eg"
      }
    },
    {
      "cell_type": "code",
      "source": [
        "tupla = (5, 2, 9, 1, 8, 3)\n",
        "\n",
        "maximo = max(tupla)\n",
        "minimo = min(tupla)\n",
        "\n",
        "print(f\"Tupla: {tupla}\")\n",
        "print(f\"Máximo: {maximo}\")\n",
        "print(f\"Mínimo: {minimo}\")\n"
      ],
      "metadata": {
        "colab": {
          "base_uri": "https://localhost:8080/"
        },
        "id": "ZEICqp-bHvmN",
        "outputId": "0552453c-c4a7-49a1-c2b8-45c066bb36a6"
      },
      "execution_count": null,
      "outputs": [
        {
          "output_type": "stream",
          "name": "stdout",
          "text": [
            "Tupla: (5, 2, 9, 1, 8, 3)\n",
            "Máximo: 9\n",
            "Mínimo: 1\n"
          ]
        }
      ]
    },
    {
      "cell_type": "markdown",
      "source": [
        "* Crie uma nova tupla com os valores únicos de uma tupla:"
      ],
      "metadata": {
        "id": "sYgttu2LH7XY"
      }
    },
    {
      "cell_type": "code",
      "source": [
        "tupla = (1, 2, 2, 3, 4, 4, 5)\n",
        "\n",
        "unicos = tuple(set(tupla))\n",
        "\n",
        "print(f\"Tupla: {tupla}\")\n",
        "print(f\"Valores únicos: {unicos}\")\n"
      ],
      "metadata": {
        "colab": {
          "base_uri": "https://localhost:8080/"
        },
        "id": "WssJ1gI3H3nZ",
        "outputId": "c7ce7573-42df-4490-d969-6b94f6e6efa1"
      },
      "execution_count": null,
      "outputs": [
        {
          "output_type": "stream",
          "name": "stdout",
          "text": [
            "Tupla: (1, 2, 2, 3, 4, 4, 5)\n",
            "Valores únicos: (1, 2, 3, 4, 5)\n"
          ]
        }
      ]
    },
    {
      "cell_type": "markdown",
      "source": [
        "* Verifique se um determinado valor está presente em uma tupla:"
      ],
      "metadata": {
        "id": "01WQwoe4IA8x"
      }
    },
    {
      "cell_type": "code",
      "source": [
        "tupla = (1, 2, 3, 4, 5)\n",
        "\n",
        "valor = 3\n",
        "\n",
        "if valor in tupla:\n",
        "    print(f\"O valor {valor} está presente na tupla.\")\n",
        "else:\n",
        "    print(f\"O valor {valor} não está presente na tupla.\")\n"
      ],
      "metadata": {
        "colab": {
          "base_uri": "https://localhost:8080/"
        },
        "id": "9lHQXizlH98r",
        "outputId": "b16cfc64-e0bc-4c8a-c675-3e0df49f22a2"
      },
      "execution_count": null,
      "outputs": [
        {
          "output_type": "stream",
          "name": "stdout",
          "text": [
            "O valor 3 está presente na tupla.\n"
          ]
        }
      ]
    },
    {
      "cell_type": "markdown",
      "source": [
        "## Conjuntos:\n"
      ],
      "metadata": {
        "id": "52xZMfKwNEiI"
      }
    },
    {
      "cell_type": "markdown",
      "source": [
        "* Encontre a interseção e a união de dois conjuntos:"
      ],
      "metadata": {
        "id": "omCNLpTzIcNB"
      }
    },
    {
      "cell_type": "code",
      "source": [
        "conjuntos1 = {1,2,3,4,5}\n",
        "conjuntos2 = {4,5,6,7,8}\n",
        "\n",
        "intersecao = conjuntos1.intersection(conjuntos2)\n",
        "uniao =  conjuntos1.union(conjuntos2)\n",
        "\n",
        "print(f\"Conjunto 1: {conjuntos1}\")\n",
        "print(f\"Conjunto 2: {conjuntos2}\")\n",
        "print(f\"Interseção: {intersecao}\")\n",
        "print(f\"União: {uniao}\")"
      ],
      "metadata": {
        "colab": {
          "base_uri": "https://localhost:8080/"
        },
        "id": "rcP7n9OqICDC",
        "outputId": "7bd1e5b4-3921-4696-e436-c81390b2715f"
      },
      "execution_count": null,
      "outputs": [
        {
          "output_type": "stream",
          "name": "stdout",
          "text": [
            "Conjunto 1: {1, 2, 3, 4, 5}\n",
            "Conjunto 2: {4, 5, 6, 7, 8}\n",
            "Interseção: {4, 5}\n",
            "União: {1, 2, 3, 4, 5, 6, 7, 8}\n"
          ]
        }
      ]
    },
    {
      "cell_type": "markdown",
      "source": [
        "* Crie um conjunto com os elementos que aparecem em ambas as listas:"
      ],
      "metadata": {
        "id": "-c77GNClJWZi"
      }
    },
    {
      "cell_type": "code",
      "source": [
        "lista1 = [1, 2, 3, 4, 5]\n",
        "lista2 = [4, 5, 6, 7, 8]\n",
        "\n",
        "conjunto = set(lista1).intersection(lista2)\n",
        "\n",
        "print(f\"Lista 1: {lista1}\")\n",
        "print(f\"Lista 2: {lista2}\")\n",
        "print(f\"Conjunto: {conjunto}\")\n"
      ],
      "metadata": {
        "colab": {
          "base_uri": "https://localhost:8080/"
        },
        "id": "gIpXe4kSJBrh",
        "outputId": "3e9c9e22-c7f4-4ff2-93e8-55092a64b95b"
      },
      "execution_count": null,
      "outputs": [
        {
          "output_type": "stream",
          "name": "stdout",
          "text": [
            "Lista 1: [1, 2, 3, 4, 5]\n",
            "Lista 2: [4, 5, 6, 7, 8]\n",
            "Conjunto: {4, 5}\n"
          ]
        }
      ]
    },
    {
      "cell_type": "markdown",
      "source": [
        "* Exiba a quantidade de elementos em um conjunto:"
      ],
      "metadata": {
        "id": "zVqaAsb_JeAI"
      }
    },
    {
      "cell_type": "code",
      "source": [
        "conjunto = {1, 2, 3, 4, 5}\n",
        "\n",
        "quantidade = len(conjunto)\n",
        "\n",
        "print(f\"Conjunto: {conjunto}\")\n",
        "print(f\"Quantidade de elementos: {quantidade}\")"
      ],
      "metadata": {
        "colab": {
          "base_uri": "https://localhost:8080/"
        },
        "id": "e4O2Wex-JaOR",
        "outputId": "999a3721-80d5-40fc-8bf8-3565045817fd"
      },
      "execution_count": null,
      "outputs": [
        {
          "output_type": "stream",
          "name": "stdout",
          "text": [
            "Conjunto: {1, 2, 3, 4, 5}\n",
            "Quantidade de elementos: 5\n"
          ]
        }
      ]
    },
    {
      "cell_type": "markdown",
      "source": [
        "* Verifique se um conjunto é subconjunto do outro:"
      ],
      "metadata": {
        "id": "2an1BVIlJnOh"
      }
    },
    {
      "cell_type": "code",
      "source": [
        "conjunto1 = {1, 2, 3}\n",
        "conjunto2 = {1, 2, 3, 4, 5}\n",
        "\n",
        "if conjunto1.issubset(conjunto2):\n",
        "    print(\"Conjunto 1 é subconjunto de Conjunto 2\")\n",
        "else:\n",
        "    print(\"Conjunto 1 não é subconjunto de Conjunto 2\")\n"
      ],
      "metadata": {
        "colab": {
          "base_uri": "https://localhost:8080/"
        },
        "id": "5c6w5gO3JkJi",
        "outputId": "0888bf69-751e-4810-e05d-09c24ae5880d"
      },
      "execution_count": null,
      "outputs": [
        {
          "output_type": "stream",
          "name": "stdout",
          "text": [
            "Conjunto 1 é subconjunto de Conjunto 2\n"
          ]
        }
      ]
    },
    {
      "cell_type": "markdown",
      "source": [
        "* Encontre os elementos que estão presentes em apenas um dos conjuntos:"
      ],
      "metadata": {
        "id": "Dh4SOrrEJ30h"
      }
    },
    {
      "cell_type": "code",
      "source": [
        "conjunto1 = {1, 2, 3, 4, 5}\n",
        "conjunto2 = {4, 5, 6, 7, 8}\n",
        "\n",
        "diferenca = conjunto1.symmetric_difference(conjunto2)\n",
        "\n",
        "print(f\"Conjunto 1: {conjunto1}\")\n",
        "print(f\"Conjunto 2: {conjunto2}\")\n",
        "print(f\"Elementos presentes em apenas um dos conjuntos: {diferenca}\")\n"
      ],
      "metadata": {
        "colab": {
          "base_uri": "https://localhost:8080/"
        },
        "id": "f9xyGIe3JydP",
        "outputId": "0c9781c5-be74-4e16-e1ed-0e205f585ac8"
      },
      "execution_count": null,
      "outputs": [
        {
          "output_type": "stream",
          "name": "stdout",
          "text": [
            "Conjunto 1: {1, 2, 3, 4, 5}\n",
            "Conjunto 2: {4, 5, 6, 7, 8}\n",
            "Elementos presentes em apenas um dos conjuntos: {1, 2, 3, 6, 7, 8}\n"
          ]
        }
      ]
    },
    {
      "cell_type": "markdown",
      "source": [
        "## Dicionários:"
      ],
      "metadata": {
        "id": "UAyVjT83NLsd"
      }
    },
    {
      "cell_type": "markdown",
      "source": [
        "* Crie um dicionário com os nomes e as idades de algumas pessoas e exiba apenas os nomes.\n"
      ],
      "metadata": {
        "id": "dRvnpQePKZ4I"
      }
    },
    {
      "cell_type": "code",
      "source": [
        "pessoas = {'João': 25, 'Maria': 32, 'Pedro': 19, 'Ana': 27}\n",
        "\n",
        "for nome in pessoas.keys():\n",
        "    print(nome)\n"
      ],
      "metadata": {
        "colab": {
          "base_uri": "https://localhost:8080/"
        },
        "id": "FSyF04E4J6h1",
        "outputId": "58bb485a-2ef1-48ab-f990-d4032ba1ca7e"
      },
      "execution_count": null,
      "outputs": [
        {
          "output_type": "stream",
          "name": "stdout",
          "text": [
            "João\n",
            "Maria\n",
            "Pedro\n",
            "Ana\n"
          ]
        }
      ]
    },
    {
      "cell_type": "markdown",
      "source": [
        "*  Crie um programa que leia duas listas (uma com as chaves e outra com os valores) e crie um dicionário a partir dessas listas."
      ],
      "metadata": {
        "id": "n4AY09IKKmEL"
      }
    },
    {
      "cell_type": "code",
      "source": [
        "chaves = ['nome', 'idade', 'cidade']\n",
        "valores = ['João', 25, 'São Paulo']\n",
        "\n",
        "dicionario = dict(zip(chaves, valores))\n",
        "\n",
        "print(dicionario)"
      ],
      "metadata": {
        "colab": {
          "base_uri": "https://localhost:8080/"
        },
        "id": "4ukF9VpbKi52",
        "outputId": "8d311fd5-ff61-495d-d731-3c29dd551e72"
      },
      "execution_count": null,
      "outputs": [
        {
          "output_type": "stream",
          "name": "stdout",
          "text": [
            "{'nome': 'João', 'idade': 25, 'cidade': 'São Paulo'}\n"
          ]
        }
      ]
    },
    {
      "cell_type": "markdown",
      "source": [
        "* Crie um programa que leia um dicionário e exiba a média das idades das pessoas no dicionário."
      ],
      "metadata": {
        "id": "CnxE7XehK-iW"
      }
    },
    {
      "cell_type": "code",
      "source": [
        "pessoas = {'João': 25, 'Maria': 32, 'Pedro': 19, 'Ana': 27}\n",
        "\n",
        "media = sum(pessoas.values()) / len(pessoas)\n",
        "\n",
        "print(f'A média das idades é {media:.2f}')"
      ],
      "metadata": {
        "colab": {
          "base_uri": "https://localhost:8080/"
        },
        "id": "w9a2R7xpKxz7",
        "outputId": "4ec05f66-7d74-431f-c9df-78aa66acbfec"
      },
      "execution_count": null,
      "outputs": [
        {
          "output_type": "stream",
          "name": "stdout",
          "text": [
            "A média das idades é 25.75\n"
          ]
        }
      ]
    },
    {
      "cell_type": "markdown",
      "source": [
        "* Crie um programa que leia um dicionário e remova um elemento específico."
      ],
      "metadata": {
        "id": "WyGOmH9kLG9o"
      }
    },
    {
      "cell_type": "code",
      "source": [
        "pessoas = {'João': 25, 'Maria': 32, 'Pedro': 19, 'Ana': 27}\n",
        "\n",
        "del pessoas['Pedro']\n",
        "\n",
        "print(pessoas)"
      ],
      "metadata": {
        "id": "iyzd78riLCkQ"
      },
      "execution_count": null,
      "outputs": []
    },
    {
      "cell_type": "markdown",
      "source": [
        "* Crie um programa que leia um dicionário e verifique se uma chave específica está presente no\n",
        "dicionário."
      ],
      "metadata": {
        "id": "JQgifTVcLL3a"
      }
    },
    {
      "cell_type": "code",
      "source": [
        "pessoas = {'João': 25, 'Maria': 32, 'Pedro': 19, 'Ana': 27}\n",
        "\n",
        "if 'Pedro' in pessoas:\n",
        "    print('Pedro está no dicionário')\n",
        "else:\n",
        "    print('Pedro não está no dicionário')\n"
      ],
      "metadata": {
        "colab": {
          "base_uri": "https://localhost:8080/"
        },
        "id": "D16d01udLTND",
        "outputId": "39064d46-e521-43e1-edb5-e7a4191dd618"
      },
      "execution_count": null,
      "outputs": [
        {
          "output_type": "stream",
          "name": "stdout",
          "text": [
            "Pedro está no dicionário\n"
          ]
        }
      ]
    },
    {
      "cell_type": "markdown",
      "source": [
        "## Listas:"
      ],
      "metadata": {
        "id": "zvvRjdWuNWTk"
      }
    },
    {
      "cell_type": "markdown",
      "source": [
        "* Crie uma lista com alguns nomes e ordene a lista em ordem alfabética."
      ],
      "metadata": {
        "id": "D5qByFryLs9I"
      }
    },
    {
      "cell_type": "code",
      "source": [
        "nomes = [\"João\", \"Ana\", \"Carlos\", \"Maria\", \"Fernanda\"]\n",
        "nomes.sort()\n",
        "print(nomes)"
      ],
      "metadata": {
        "colab": {
          "base_uri": "https://localhost:8080/"
        },
        "id": "8EcPbhLxLVgR",
        "outputId": "d32cd59a-3bea-47e6-926e-49384ef431b0"
      },
      "execution_count": null,
      "outputs": [
        {
          "output_type": "stream",
          "name": "stdout",
          "text": [
            "['Ana', 'Carlos', 'Fernanda', 'João', 'Maria']\n"
          ]
        }
      ]
    },
    {
      "cell_type": "markdown",
      "source": [
        "* Crie um programa que leia uma lista e remova os elementos repetidos.\n"
      ],
      "metadata": {
        "id": "mfJ3Ogu0L6yC"
      }
    },
    {
      "cell_type": "code",
      "source": [
        "lista = [1, 2, 3, 2, 4, 5, 3, 6, 1]\n",
        "lista_sem_repeticao = list(set(lista))\n",
        "print(lista_sem_repeticao)\n"
      ],
      "metadata": {
        "colab": {
          "base_uri": "https://localhost:8080/"
        },
        "id": "-Y51g8HIL5UN",
        "outputId": "774dcae4-c5a1-432d-e4b4-5305983f6e7e"
      },
      "execution_count": null,
      "outputs": [
        {
          "output_type": "stream",
          "name": "stdout",
          "text": [
            "[1, 2, 3, 4, 5, 6]\n"
          ]
        }
      ]
    },
    {
      "cell_type": "markdown",
      "source": [
        "* Crie um programa que leia uma lista de números e exiba apenas os números pares.\n"
      ],
      "metadata": {
        "id": "_FZaZII-MExm"
      }
    },
    {
      "cell_type": "code",
      "source": [
        "numeros = [1, 2, 3, 4, 5, 6, 7, 8, 9, 10]\n",
        "pares = [numero for numero in numeros if numero % 2 == 0]\n",
        "print(pares)\n"
      ],
      "metadata": {
        "colab": {
          "base_uri": "https://localhost:8080/"
        },
        "id": "SHB2FKwtMCQq",
        "outputId": "c4ede266-590d-4f87-c918-870fe9b0b618"
      },
      "execution_count": null,
      "outputs": [
        {
          "output_type": "stream",
          "name": "stdout",
          "text": [
            "[2, 4, 6, 8, 10]\n"
          ]
        }
      ]
    },
    {
      "cell_type": "markdown",
      "source": [
        "* Crie um programa que leia uma lista e verifique se ela está em ordem crescente.\n"
      ],
      "metadata": {
        "id": "XFExp9uoMJb3"
      }
    },
    {
      "cell_type": "code",
      "source": [
        "lista = [1, 2, 3, 4, 5]\n",
        "if lista == sorted(lista):\n",
        "    print(\"A lista está em ordem crescente\")\n",
        "else:\n",
        "    print(\"A lista não está em ordem crescente\")\n"
      ],
      "metadata": {
        "colab": {
          "base_uri": "https://localhost:8080/"
        },
        "id": "two02UD5MHZL",
        "outputId": "95a66020-e939-4eb1-b1f1-73f7579e81a5"
      },
      "execution_count": null,
      "outputs": [
        {
          "output_type": "stream",
          "name": "stdout",
          "text": [
            "A lista está em ordem crescente\n"
          ]
        }
      ]
    },
    {
      "cell_type": "markdown",
      "source": [
        "* Crie um programa que leia uma lista e crie uma nova lista com os elementos da lista original,\n",
        "mas sem os elementos repetidos."
      ],
      "metadata": {
        "id": "a-Lvbq6rMUBo"
      }
    },
    {
      "cell_type": "code",
      "source": [
        "lista = [1, 2, 3, 2, 4, 5, 3, 6, 1]\n",
        "nova_lista = []\n",
        "for elemento in lista:\n",
        "    if elemento not in nova_lista:\n",
        "        nova_lista.append(elemento)\n",
        "print(nova_lista)\n"
      ],
      "metadata": {
        "colab": {
          "base_uri": "https://localhost:8080/"
        },
        "id": "NwGItMIQMP47",
        "outputId": "727d08be-b391-413c-ad1c-875de49f898e"
      },
      "execution_count": null,
      "outputs": [
        {
          "output_type": "stream",
          "name": "stdout",
          "text": [
            "[1, 2, 3, 4, 5, 6]\n"
          ]
        }
      ]
    }
  ]
}